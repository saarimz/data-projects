{
 "cells": [
  {
   "cell_type": "code",
   "execution_count": 3,
   "metadata": {
    "collapsed": false
   },
   "outputs": [],
   "source": [
    "import numpy as np\n",
    "import pandas as pd\n",
    "from pandas import Series, DataFrame\n",
    "\n",
    "import matplotlib.pyplot as plt\n",
    "import seaborn as sns\n",
    "sns.set_style('whitegrid')\n",
    "%matplotlib inline\n",
    "\n",
    "import pandas_datareader as pdr\n",
    "from pandas_datareader import data, wb\n",
    "\n",
    "from datetime import datetime\n",
    "\n",
    "from __future__ import division"
   ]
  },
  {
   "cell_type": "code",
   "execution_count": 4,
   "metadata": {
    "collapsed": true
   },
   "outputs": [],
   "source": [
    "tech_list = ['AAPL','GOOG','MSFT','AMZN']"
   ]
  },
  {
   "cell_type": "code",
   "execution_count": 5,
   "metadata": {
    "collapsed": true
   },
   "outputs": [],
   "source": [
    "end = datetime.now()\n",
    "start = datetime(end.year-1,end.month,end.day)"
   ]
  },
  {
   "cell_type": "code",
   "execution_count": 7,
   "metadata": {
    "collapsed": false
   },
   "outputs": [],
   "source": [
    "for stock in tech_list:\n",
    "    globals()[stock] = pdr.get_data_yahoo(stock,start,end)"
   ]
  },
  {
   "cell_type": "code",
   "execution_count": 10,
   "metadata": {
    "collapsed": false
   },
   "outputs": [
    {
     "data": {
      "text/html": [
       "<div>\n",
       "<table border=\"1\" class=\"dataframe\">\n",
       "  <thead>\n",
       "    <tr style=\"text-align: right;\">\n",
       "      <th></th>\n",
       "      <th>Open</th>\n",
       "      <th>High</th>\n",
       "      <th>Low</th>\n",
       "      <th>Close</th>\n",
       "      <th>Adj Close</th>\n",
       "      <th>Volume</th>\n",
       "    </tr>\n",
       "    <tr>\n",
       "      <th>Date</th>\n",
       "      <th></th>\n",
       "      <th></th>\n",
       "      <th></th>\n",
       "      <th></th>\n",
       "      <th></th>\n",
       "      <th></th>\n",
       "    </tr>\n",
       "  </thead>\n",
       "  <tbody>\n",
       "    <tr>\n",
       "      <th>2017-11-06</th>\n",
       "      <td>172.369995</td>\n",
       "      <td>174.990005</td>\n",
       "      <td>171.720001</td>\n",
       "      <td>174.250000</td>\n",
       "      <td>174.250000</td>\n",
       "      <td>35026300</td>\n",
       "    </tr>\n",
       "    <tr>\n",
       "      <th>2017-11-07</th>\n",
       "      <td>173.910004</td>\n",
       "      <td>175.250000</td>\n",
       "      <td>173.600006</td>\n",
       "      <td>174.809998</td>\n",
       "      <td>174.809998</td>\n",
       "      <td>24361500</td>\n",
       "    </tr>\n",
       "    <tr>\n",
       "      <th>2017-11-08</th>\n",
       "      <td>174.660004</td>\n",
       "      <td>176.240005</td>\n",
       "      <td>174.330002</td>\n",
       "      <td>176.240005</td>\n",
       "      <td>176.240005</td>\n",
       "      <td>24409500</td>\n",
       "    </tr>\n",
       "    <tr>\n",
       "      <th>2017-11-09</th>\n",
       "      <td>175.110001</td>\n",
       "      <td>176.100006</td>\n",
       "      <td>173.139999</td>\n",
       "      <td>175.880005</td>\n",
       "      <td>175.880005</td>\n",
       "      <td>28724600</td>\n",
       "    </tr>\n",
       "    <tr>\n",
       "      <th>2017-11-10</th>\n",
       "      <td>175.110001</td>\n",
       "      <td>175.380005</td>\n",
       "      <td>174.270004</td>\n",
       "      <td>174.669998</td>\n",
       "      <td>174.669998</td>\n",
       "      <td>19156898</td>\n",
       "    </tr>\n",
       "  </tbody>\n",
       "</table>\n",
       "</div>"
      ],
      "text/plain": [
       "                  Open        High         Low       Close   Adj Close  \\\n",
       "Date                                                                     \n",
       "2017-11-06  172.369995  174.990005  171.720001  174.250000  174.250000   \n",
       "2017-11-07  173.910004  175.250000  173.600006  174.809998  174.809998   \n",
       "2017-11-08  174.660004  176.240005  174.330002  176.240005  176.240005   \n",
       "2017-11-09  175.110001  176.100006  173.139999  175.880005  175.880005   \n",
       "2017-11-10  175.110001  175.380005  174.270004  174.669998  174.669998   \n",
       "\n",
       "              Volume  \n",
       "Date                  \n",
       "2017-11-06  35026300  \n",
       "2017-11-07  24361500  \n",
       "2017-11-08  24409500  \n",
       "2017-11-09  28724600  \n",
       "2017-11-10  19156898  "
      ]
     },
     "execution_count": 10,
     "metadata": {},
     "output_type": "execute_result"
    }
   ],
   "source": [
    "AAPL.tail()"
   ]
  },
  {
   "cell_type": "code",
   "execution_count": 11,
   "metadata": {
    "collapsed": false
   },
   "outputs": [
    {
     "data": {
      "text/html": [
       "<div>\n",
       "<table border=\"1\" class=\"dataframe\">\n",
       "  <thead>\n",
       "    <tr style=\"text-align: right;\">\n",
       "      <th></th>\n",
       "      <th>Open</th>\n",
       "      <th>High</th>\n",
       "      <th>Low</th>\n",
       "      <th>Close</th>\n",
       "      <th>Adj Close</th>\n",
       "      <th>Volume</th>\n",
       "    </tr>\n",
       "    <tr>\n",
       "      <th>Date</th>\n",
       "      <th></th>\n",
       "      <th></th>\n",
       "      <th></th>\n",
       "      <th></th>\n",
       "      <th></th>\n",
       "      <th></th>\n",
       "    </tr>\n",
       "  </thead>\n",
       "  <tbody>\n",
       "    <tr>\n",
       "      <th>2016-11-10</th>\n",
       "      <td>791.169983</td>\n",
       "      <td>791.169983</td>\n",
       "      <td>752.179993</td>\n",
       "      <td>762.559998</td>\n",
       "      <td>762.559998</td>\n",
       "      <td>4745200</td>\n",
       "    </tr>\n",
       "    <tr>\n",
       "      <th>2016-11-11</th>\n",
       "      <td>756.539978</td>\n",
       "      <td>760.780029</td>\n",
       "      <td>750.380005</td>\n",
       "      <td>754.020020</td>\n",
       "      <td>754.020020</td>\n",
       "      <td>2431800</td>\n",
       "    </tr>\n",
       "    <tr>\n",
       "      <th>2016-11-14</th>\n",
       "      <td>755.599976</td>\n",
       "      <td>757.849976</td>\n",
       "      <td>727.539978</td>\n",
       "      <td>736.080017</td>\n",
       "      <td>736.080017</td>\n",
       "      <td>3631700</td>\n",
       "    </tr>\n",
       "    <tr>\n",
       "      <th>2016-11-15</th>\n",
       "      <td>746.969971</td>\n",
       "      <td>764.416016</td>\n",
       "      <td>746.969971</td>\n",
       "      <td>758.489990</td>\n",
       "      <td>758.489990</td>\n",
       "      <td>2384000</td>\n",
       "    </tr>\n",
       "    <tr>\n",
       "      <th>2016-11-16</th>\n",
       "      <td>755.200012</td>\n",
       "      <td>766.359985</td>\n",
       "      <td>750.510010</td>\n",
       "      <td>764.479980</td>\n",
       "      <td>764.479980</td>\n",
       "      <td>1465200</td>\n",
       "    </tr>\n",
       "  </tbody>\n",
       "</table>\n",
       "</div>"
      ],
      "text/plain": [
       "                  Open        High         Low       Close   Adj Close  \\\n",
       "Date                                                                     \n",
       "2016-11-10  791.169983  791.169983  752.179993  762.559998  762.559998   \n",
       "2016-11-11  756.539978  760.780029  750.380005  754.020020  754.020020   \n",
       "2016-11-14  755.599976  757.849976  727.539978  736.080017  736.080017   \n",
       "2016-11-15  746.969971  764.416016  746.969971  758.489990  758.489990   \n",
       "2016-11-16  755.200012  766.359985  750.510010  764.479980  764.479980   \n",
       "\n",
       "             Volume  \n",
       "Date                 \n",
       "2016-11-10  4745200  \n",
       "2016-11-11  2431800  \n",
       "2016-11-14  3631700  \n",
       "2016-11-15  2384000  \n",
       "2016-11-16  1465200  "
      ]
     },
     "execution_count": 11,
     "metadata": {},
     "output_type": "execute_result"
    }
   ],
   "source": [
    "GOOG.head()"
   ]
  },
  {
   "cell_type": "code",
   "execution_count": 12,
   "metadata": {
    "collapsed": false
   },
   "outputs": [
    {
     "data": {
      "text/html": [
       "<div>\n",
       "<table border=\"1\" class=\"dataframe\">\n",
       "  <thead>\n",
       "    <tr style=\"text-align: right;\">\n",
       "      <th></th>\n",
       "      <th>Open</th>\n",
       "      <th>High</th>\n",
       "      <th>Low</th>\n",
       "      <th>Close</th>\n",
       "      <th>Adj Close</th>\n",
       "      <th>Volume</th>\n",
       "    </tr>\n",
       "    <tr>\n",
       "      <th>Date</th>\n",
       "      <th></th>\n",
       "      <th></th>\n",
       "      <th></th>\n",
       "      <th></th>\n",
       "      <th></th>\n",
       "      <th></th>\n",
       "    </tr>\n",
       "  </thead>\n",
       "  <tbody>\n",
       "    <tr>\n",
       "      <th>2016-11-10</th>\n",
       "      <td>60.480000</td>\n",
       "      <td>60.490002</td>\n",
       "      <td>57.630001</td>\n",
       "      <td>58.700001</td>\n",
       "      <td>57.319069</td>\n",
       "      <td>57822400</td>\n",
       "    </tr>\n",
       "    <tr>\n",
       "      <th>2016-11-11</th>\n",
       "      <td>58.230000</td>\n",
       "      <td>59.119999</td>\n",
       "      <td>58.009998</td>\n",
       "      <td>59.020000</td>\n",
       "      <td>57.631542</td>\n",
       "      <td>38767800</td>\n",
       "    </tr>\n",
       "    <tr>\n",
       "      <th>2016-11-14</th>\n",
       "      <td>59.020000</td>\n",
       "      <td>59.080002</td>\n",
       "      <td>57.279999</td>\n",
       "      <td>58.119999</td>\n",
       "      <td>56.752712</td>\n",
       "      <td>40861900</td>\n",
       "    </tr>\n",
       "    <tr>\n",
       "      <th>2016-11-15</th>\n",
       "      <td>58.330002</td>\n",
       "      <td>59.490002</td>\n",
       "      <td>58.320000</td>\n",
       "      <td>58.869999</td>\n",
       "      <td>57.873413</td>\n",
       "      <td>35904100</td>\n",
       "    </tr>\n",
       "    <tr>\n",
       "      <th>2016-11-16</th>\n",
       "      <td>58.939999</td>\n",
       "      <td>59.660000</td>\n",
       "      <td>58.810001</td>\n",
       "      <td>59.650002</td>\n",
       "      <td>58.640213</td>\n",
       "      <td>26851400</td>\n",
       "    </tr>\n",
       "  </tbody>\n",
       "</table>\n",
       "</div>"
      ],
      "text/plain": [
       "                 Open       High        Low      Close  Adj Close    Volume\n",
       "Date                                                                       \n",
       "2016-11-10  60.480000  60.490002  57.630001  58.700001  57.319069  57822400\n",
       "2016-11-11  58.230000  59.119999  58.009998  59.020000  57.631542  38767800\n",
       "2016-11-14  59.020000  59.080002  57.279999  58.119999  56.752712  40861900\n",
       "2016-11-15  58.330002  59.490002  58.320000  58.869999  57.873413  35904100\n",
       "2016-11-16  58.939999  59.660000  58.810001  59.650002  58.640213  26851400"
      ]
     },
     "execution_count": 12,
     "metadata": {},
     "output_type": "execute_result"
    }
   ],
   "source": [
    "MSFT.head()"
   ]
  },
  {
   "cell_type": "code",
   "execution_count": 13,
   "metadata": {
    "collapsed": false
   },
   "outputs": [
    {
     "data": {
      "text/html": [
       "<div>\n",
       "<table border=\"1\" class=\"dataframe\">\n",
       "  <thead>\n",
       "    <tr style=\"text-align: right;\">\n",
       "      <th></th>\n",
       "      <th>Open</th>\n",
       "      <th>High</th>\n",
       "      <th>Low</th>\n",
       "      <th>Close</th>\n",
       "      <th>Adj Close</th>\n",
       "      <th>Volume</th>\n",
       "    </tr>\n",
       "    <tr>\n",
       "      <th>Date</th>\n",
       "      <th></th>\n",
       "      <th></th>\n",
       "      <th></th>\n",
       "      <th></th>\n",
       "      <th></th>\n",
       "      <th></th>\n",
       "    </tr>\n",
       "  </thead>\n",
       "  <tbody>\n",
       "    <tr>\n",
       "      <th>2017-11-06</th>\n",
       "      <td>1109.150024</td>\n",
       "      <td>1125.410034</td>\n",
       "      <td>1108.770020</td>\n",
       "      <td>1120.660034</td>\n",
       "      <td>1120.660034</td>\n",
       "      <td>3381100</td>\n",
       "    </tr>\n",
       "    <tr>\n",
       "      <th>2017-11-07</th>\n",
       "      <td>1124.739990</td>\n",
       "      <td>1130.599976</td>\n",
       "      <td>1117.500000</td>\n",
       "      <td>1123.170044</td>\n",
       "      <td>1123.170044</td>\n",
       "      <td>2689000</td>\n",
       "    </tr>\n",
       "    <tr>\n",
       "      <th>2017-11-08</th>\n",
       "      <td>1122.819946</td>\n",
       "      <td>1135.540039</td>\n",
       "      <td>1119.109985</td>\n",
       "      <td>1132.880005</td>\n",
       "      <td>1132.880005</td>\n",
       "      <td>2581500</td>\n",
       "    </tr>\n",
       "    <tr>\n",
       "      <th>2017-11-09</th>\n",
       "      <td>1125.959961</td>\n",
       "      <td>1129.619995</td>\n",
       "      <td>1115.770020</td>\n",
       "      <td>1129.130005</td>\n",
       "      <td>1129.130005</td>\n",
       "      <td>3668400</td>\n",
       "    </tr>\n",
       "    <tr>\n",
       "      <th>2017-11-10</th>\n",
       "      <td>1126.099976</td>\n",
       "      <td>1131.500000</td>\n",
       "      <td>1124.060059</td>\n",
       "      <td>1125.349976</td>\n",
       "      <td>1125.349976</td>\n",
       "      <td>2162985</td>\n",
       "    </tr>\n",
       "  </tbody>\n",
       "</table>\n",
       "</div>"
      ],
      "text/plain": [
       "                   Open         High          Low        Close    Adj Close  \\\n",
       "Date                                                                          \n",
       "2017-11-06  1109.150024  1125.410034  1108.770020  1120.660034  1120.660034   \n",
       "2017-11-07  1124.739990  1130.599976  1117.500000  1123.170044  1123.170044   \n",
       "2017-11-08  1122.819946  1135.540039  1119.109985  1132.880005  1132.880005   \n",
       "2017-11-09  1125.959961  1129.619995  1115.770020  1129.130005  1129.130005   \n",
       "2017-11-10  1126.099976  1131.500000  1124.060059  1125.349976  1125.349976   \n",
       "\n",
       "             Volume  \n",
       "Date                 \n",
       "2017-11-06  3381100  \n",
       "2017-11-07  2689000  \n",
       "2017-11-08  2581500  \n",
       "2017-11-09  3668400  \n",
       "2017-11-10  2162985  "
      ]
     },
     "execution_count": 13,
     "metadata": {},
     "output_type": "execute_result"
    }
   ],
   "source": [
    "AMZN.tail()"
   ]
  },
  {
   "cell_type": "code",
   "execution_count": 14,
   "metadata": {
    "collapsed": false
   },
   "outputs": [
    {
     "data": {
      "text/html": [
       "<div>\n",
       "<table border=\"1\" class=\"dataframe\">\n",
       "  <thead>\n",
       "    <tr style=\"text-align: right;\">\n",
       "      <th></th>\n",
       "      <th>Open</th>\n",
       "      <th>High</th>\n",
       "      <th>Low</th>\n",
       "      <th>Close</th>\n",
       "      <th>Adj Close</th>\n",
       "      <th>Volume</th>\n",
       "    </tr>\n",
       "  </thead>\n",
       "  <tbody>\n",
       "    <tr>\n",
       "      <th>count</th>\n",
       "      <td>253.000000</td>\n",
       "      <td>253.000000</td>\n",
       "      <td>253.000000</td>\n",
       "      <td>253.000000</td>\n",
       "      <td>253.000000</td>\n",
       "      <td>2.530000e+02</td>\n",
       "    </tr>\n",
       "    <tr>\n",
       "      <th>mean</th>\n",
       "      <td>142.361897</td>\n",
       "      <td>143.322016</td>\n",
       "      <td>141.459566</td>\n",
       "      <td>142.503952</td>\n",
       "      <td>141.730278</td>\n",
       "      <td>2.778098e+07</td>\n",
       "    </tr>\n",
       "    <tr>\n",
       "      <th>std</th>\n",
       "      <td>17.095226</td>\n",
       "      <td>17.132903</td>\n",
       "      <td>16.844793</td>\n",
       "      <td>16.975294</td>\n",
       "      <td>17.448259</td>\n",
       "      <td>1.171442e+07</td>\n",
       "    </tr>\n",
       "    <tr>\n",
       "      <th>min</th>\n",
       "      <td>106.570000</td>\n",
       "      <td>107.680000</td>\n",
       "      <td>104.080002</td>\n",
       "      <td>105.709999</td>\n",
       "      <td>104.410980</td>\n",
       "      <td>1.147590e+07</td>\n",
       "    </tr>\n",
       "    <tr>\n",
       "      <th>25%</th>\n",
       "      <td>133.080002</td>\n",
       "      <td>133.820007</td>\n",
       "      <td>132.750000</td>\n",
       "      <td>133.289993</td>\n",
       "      <td>132.222839</td>\n",
       "      <td>2.056290e+07</td>\n",
       "    </tr>\n",
       "    <tr>\n",
       "      <th>50%</th>\n",
       "      <td>144.729996</td>\n",
       "      <td>146.070007</td>\n",
       "      <td>143.779999</td>\n",
       "      <td>145.059998</td>\n",
       "      <td>144.492584</td>\n",
       "      <td>2.519940e+07</td>\n",
       "    </tr>\n",
       "    <tr>\n",
       "      <th>75%</th>\n",
       "      <td>155.250000</td>\n",
       "      <td>155.979996</td>\n",
       "      <td>154.479996</td>\n",
       "      <td>155.389999</td>\n",
       "      <td>154.961472</td>\n",
       "      <td>3.175190e+07</td>\n",
       "    </tr>\n",
       "    <tr>\n",
       "      <th>max</th>\n",
       "      <td>175.110001</td>\n",
       "      <td>176.240005</td>\n",
       "      <td>174.330002</td>\n",
       "      <td>176.240005</td>\n",
       "      <td>176.240005</td>\n",
       "      <td>1.119850e+08</td>\n",
       "    </tr>\n",
       "  </tbody>\n",
       "</table>\n",
       "</div>"
      ],
      "text/plain": [
       "             Open        High         Low       Close   Adj Close  \\\n",
       "count  253.000000  253.000000  253.000000  253.000000  253.000000   \n",
       "mean   142.361897  143.322016  141.459566  142.503952  141.730278   \n",
       "std     17.095226   17.132903   16.844793   16.975294   17.448259   \n",
       "min    106.570000  107.680000  104.080002  105.709999  104.410980   \n",
       "25%    133.080002  133.820007  132.750000  133.289993  132.222839   \n",
       "50%    144.729996  146.070007  143.779999  145.059998  144.492584   \n",
       "75%    155.250000  155.979996  154.479996  155.389999  154.961472   \n",
       "max    175.110001  176.240005  174.330002  176.240005  176.240005   \n",
       "\n",
       "             Volume  \n",
       "count  2.530000e+02  \n",
       "mean   2.778098e+07  \n",
       "std    1.171442e+07  \n",
       "min    1.147590e+07  \n",
       "25%    2.056290e+07  \n",
       "50%    2.519940e+07  \n",
       "75%    3.175190e+07  \n",
       "max    1.119850e+08  "
      ]
     },
     "execution_count": 14,
     "metadata": {},
     "output_type": "execute_result"
    }
   ],
   "source": [
    "AAPL.describe()"
   ]
  },
  {
   "cell_type": "code",
   "execution_count": 15,
   "metadata": {
    "collapsed": false
   },
   "outputs": [
    {
     "name": "stdout",
     "output_type": "stream",
     "text": [
      "<class 'pandas.core.frame.DataFrame'>\n",
      "DatetimeIndex: 253 entries, 2016-11-10 to 2017-11-10\n",
      "Data columns (total 6 columns):\n",
      "Open         253 non-null float64\n",
      "High         253 non-null float64\n",
      "Low          253 non-null float64\n",
      "Close        253 non-null float64\n",
      "Adj Close    253 non-null float64\n",
      "Volume       253 non-null int64\n",
      "dtypes: float64(5), int64(1)\n",
      "memory usage: 13.8 KB\n"
     ]
    }
   ],
   "source": [
    "AAPL.info()"
   ]
  },
  {
   "cell_type": "code",
   "execution_count": 17,
   "metadata": {
    "collapsed": false
   },
   "outputs": [
    {
     "data": {
      "text/plain": [
       "<matplotlib.axes._subplots.AxesSubplot at 0x11c7e1910>"
      ]
     },
     "execution_count": 17,
     "metadata": {},
     "output_type": "execute_result"
    },
    {
     "data": {
      "image/png": "[encoded data removed]",
      "text/plain": [
       "<matplotlib.figure.Figure at 0x11c803e10>"
      ]
     },
     "metadata": {},
     "output_type": "display_data"
    }
   ],
   "source": [
    "AAPL[\"Adj Close\"].plot(legend=True,figsize=(10,4))"
   ]
  },
  {
   "cell_type": "code",
   "execution_count": 18,
   "metadata": {
    "collapsed": false
   },
   "outputs": [
    {
     "data": {
      "text/plain": [
       "<matplotlib.axes._subplots.AxesSubplot at 0x11ce3fa90>"
      ]
     },
     "execution_count": 18,
     "metadata": {},
     "output_type": "execute_result"
    },
    {
     "data": {
      "image/png": "[encoded data removed]",
      "text/plain": [
       "<matplotlib.figure.Figure at 0x11ce55b10>"
      ]
     },
     "metadata": {},
     "output_type": "display_data"
    }
   ],
   "source": [
    "AAPL[\"Volume\"].plot(legend=True,figsize=(10,4))"
   ]
  },
  {
   "cell_type": "code",
   "execution_count": null,
   "metadata": {
    "collapsed": true
   },
   "outputs": [],
   "source": []
  }
 ],
 "metadata": {
  "anaconda-cloud": {},
  "kernelspec": {
   "display_name": "Python [default]",
   "language": "python",
   "name": "python2"
  },
  "language_info": {
   "codemirror_mode": {
    "name": "ipython",
    "version": 2
   },
   "file_extension": ".py",
   "mimetype": "text/x-python",
   "name": "python",
   "nbconvert_exporter": "python",
   "pygments_lexer": "ipython2",
   "version": "2.7.12"
  }
 },
 "nbformat": 4,
 "nbformat_minor": 1
}
